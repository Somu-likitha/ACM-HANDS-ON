{
 "cells": [
  {
   "cell_type": "code",
   "execution_count": 1,
   "id": "4f7ae0f4-181c-489a-81c6-2c2fb64275d5",
   "metadata": {},
   "outputs": [],
   "source": [
    "# Partly plagiarized from: https://sebastianraschka.com/blog/2023/self-attention-from-scratch.html#:~:text=What%20is%20cross%2Dattention%2C%20and,combine%20two%20different%20input%20sequences.\n",
    "import torch\n",
    "import torch.nn.functional as F\n",
    "\n",
    "# Plotting utils\n",
    "import plotly.express as px\n",
    "import plotly.io as pio\n",
    "pio.renderers.default = 'iframe'"
   ]
  },
  {
   "cell_type": "code",
   "execution_count": 2,
   "id": "03074b5e-923d-4a68-8a51-ca7dd5874eeb",
   "metadata": {},
   "outputs": [],
   "source": [
    "# Source: Oceanic, Greg Egan (Highly recommended) | Slightly edited\n",
    "sentence = \"Mathematics catalogues everything not self-contradictory; within its vast inventory, physics is an island of structures rich enough to contain their own beholders.\""
   ]
  },
  {
   "cell_type": "code",
   "execution_count": 3,
   "id": "6c4121c5-22ee-4669-bbf5-f90c83703098",
   "metadata": {},
   "outputs": [
    {
     "data": {
      "text/plain": [
       "'mathematics catalogues everything not self-contradictory within its vast inventory physics is an island of structures rich enough to contain their own beholders'"
      ]
     },
     "execution_count": 3,
     "metadata": {},
     "output_type": "execute_result"
    }
   ],
   "source": [
    "# Some clean-up\n",
    "sentence = sentence.lower()\n",
    "sentence = sentence.replace(',', '').replace(';', '').replace('.', '')\n",
    "sentence"
   ]
  },
  {
   "cell_type": "code",
   "execution_count": 4,
   "id": "df0c5746-818d-4454-8616-246a7818cb1c",
   "metadata": {},
   "outputs": [
    {
     "data": {
      "text/plain": [
       "(['mathematics',\n",
       "  'catalogues',\n",
       "  'everything',\n",
       "  'not',\n",
       "  'self-contradictory',\n",
       "  'within',\n",
       "  'its',\n",
       "  'vast',\n",
       "  'inventory',\n",
       "  'physics',\n",
       "  'is',\n",
       "  'an',\n",
       "  'island',\n",
       "  'of',\n",
       "  'structures',\n",
       "  'rich',\n",
       "  'enough',\n",
       "  'to',\n",
       "  'contain',\n",
       "  'their',\n",
       "  'own',\n",
       "  'beholders'],\n",
       " 22)"
      ]
     },
     "execution_count": 4,
     "metadata": {},
     "output_type": "execute_result"
    }
   ],
   "source": [
    "listofwords = sentence.split()\n",
    "listofwords, len(listofwords)"
   ]
  },
  {
   "cell_type": "code",
   "execution_count": 5,
   "id": "7e3ed444-262e-48ed-a3b1-a35a6a431769",
   "metadata": {},
   "outputs": [
    {
     "data": {
      "text/plain": [
       "{'an': 0,\n",
       " 'beholders': 1,\n",
       " 'catalogues': 2,\n",
       " 'contain': 3,\n",
       " 'enough': 4,\n",
       " 'everything': 5,\n",
       " 'inventory': 6,\n",
       " 'is': 7,\n",
       " 'island': 8,\n",
       " 'its': 9,\n",
       " 'mathematics': 10,\n",
       " 'not': 11,\n",
       " 'of': 12,\n",
       " 'own': 13,\n",
       " 'physics': 14,\n",
       " 'rich': 15,\n",
       " 'self-contradictory': 16,\n",
       " 'structures': 17,\n",
       " 'their': 18,\n",
       " 'to': 19,\n",
       " 'vast': 20,\n",
       " 'within': 21}"
      ]
     },
     "execution_count": 5,
     "metadata": {},
     "output_type": "execute_result"
    }
   ],
   "source": [
    "# Create a vocabulary or dictionary mapping words to integers\n",
    "vocab = {s:i for i, s in enumerate(sorted(listofwords))}\n",
    "vocab"
   ]
  },
  {
   "cell_type": "code",
   "execution_count": 6,
   "id": "9d0458b9-1711-4c8b-a327-cbd3a7938356",
   "metadata": {},
   "outputs": [
    {
     "data": {
      "text/plain": [
       "tensor([10,  2,  5, 11, 16, 21,  9, 20,  6, 14,  7,  0,  8, 12, 17, 15,  4, 19,\n",
       "         3, 18, 13,  1])"
      ]
     },
     "execution_count": 6,
     "metadata": {},
     "output_type": "execute_result"
    }
   ],
   "source": [
    "# Convert the sentence to an integer vector, using the vocab\n",
    "import torch\n",
    "\n",
    "torch.manual_seed(123) # Seed for the pRNG - for reproducibility\n",
    "\n",
    "sentence_int = torch.tensor([vocab[s] for s in listofwords])\n",
    "sentence_int"
   ]
  },
  {
   "cell_type": "markdown",
   "id": "20b31144-f61c-48e4-bd1c-f2825af514b4",
   "metadata": {},
   "source": [
    "### Generate embeddings for each word in the sentence"
   ]
  },
  {
   "cell_type": "code",
   "execution_count": 7,
   "id": "1269af08-26c1-4555-821c-0658ad413215",
   "metadata": {},
   "outputs": [],
   "source": [
    "# torch.nn.Embedding is a linear transformation using weights, sampled from the Normal distribution, to create the embeddings.\n",
    "# Uncomment and run the following to learn more about torch.nn.Embedding:\n",
    "# ? torch.nn.Embedding"
   ]
  },
  {
   "cell_type": "code",
   "execution_count": 8,
   "id": "a871f4df-a2ee-46ac-9d1f-9e0d2369109b",
   "metadata": {},
   "outputs": [
    {
     "data": {
      "text/plain": [
       "(tensor([[-1.1065,  1.2682,  0.3147,  ...,  0.4466, -0.8970,  0.1009],\n",
       "         [-0.2582, -2.0407, -0.8016,  ...,  0.1132,  0.8365,  0.0285],\n",
       "         [ 0.3277, -0.8331, -1.6179,  ..., -1.7984, -0.6822, -0.5191],\n",
       "         ...,\n",
       "         [-1.0693,  0.4660,  0.7012,  ...,  2.7196,  0.4816,  0.2409],\n",
       "         [-1.4284,  0.5617,  0.7701,  ..., -1.3574, -1.1745, -0.5126],\n",
       "         [ 0.5146,  0.9938, -0.2587,  ...,  1.2774, -1.4596, -2.1595]]),\n",
       " torch.Size([22, 64]))"
      ]
     },
     "execution_count": 8,
     "metadata": {},
     "output_type": "execute_result"
    }
   ],
   "source": [
    "# Vocab size\n",
    "n = 22\n",
    "# Embedding size\n",
    "d = 64\n",
    "\n",
    "embed = torch.nn.Embedding(num_embeddings=n, embedding_dim=d)\n",
    "embedded_sentence = embed(sentence_int).detach() # Ignore detach()\n",
    "\n",
    "embedded_sentence, embedded_sentence.shape"
   ]
  },
  {
   "cell_type": "markdown",
   "id": "6006f869-b3e3-4d1c-9719-3d5ccfb4d349",
   "metadata": {},
   "source": [
    "### Vanilla Attention\n",
    "\n",
    "Let $X_{n \\times d}$ denote our `embedded_sentence` (i.e., matrix storing embeddings for each word), where $n$ is the vocab size and $d$ is the embedding size. And, let $W_{n\\times n}$ denote a \"similarity matrix\", which stores similarity scores between embeddings for each word in the `sentence`. We can use $W$ as a weight matrix to compute attention weights, stored in $Y_{n \\times d}$. This gives us \"vanilla attention\".\n",
    "$$\n",
    "\\begin{align}\n",
    "W_{n\\times n} &:= XX^T \\\\\n",
    "W_{n\\times n} &:= X_{n \\times d} \\times X_{d \\times n}^T \\\\\n",
    "Y_{n \\times d} &:= W_{n \\times n} \\times X_{n \\times d}\n",
    "\\end{align}\n",
    "$$"
   ]
  },
  {
   "cell_type": "code",
   "execution_count": 9,
   "id": "1c868916-9395-4147-bd38-14b5333aa3e0",
   "metadata": {},
   "outputs": [
    {
     "data": {
      "text/plain": [
       "(torch.Size([22, 22]), torch.Size([22, 64]), torch.Size([22, 64]))"
      ]
     },
     "execution_count": 9,
     "metadata": {},
     "output_type": "execute_result"
    }
   ],
   "source": [
    "X = embedded_sentence\n",
    "\n",
    "W = X @ X.T # Or, use torch.matmul()\n",
    "Y = W @ X\n",
    "\n",
    "W.shape, Y.shape, X.shape"
   ]
  },
  {
   "cell_type": "code",
   "execution_count": 10,
   "id": "e802ff41-4e27-4ca1-944f-15a2b4b55476",
   "metadata": {},
   "outputs": [
    {
     "data": {
      "text/html": [
       "<iframe\n",
       "    scrolling=\"no\"\n",
       "    width=\"100%\"\n",
       "    height=\"545px\"\n",
       "    src=\"iframe_figures/figure_10.html\"\n",
       "    frameborder=\"0\"\n",
       "    allowfullscreen\n",
       "></iframe>\n"
      ]
     },
     "metadata": {},
     "output_type": "display_data"
    }
   ],
   "source": [
    "# Plotting Similarity Heatmap\n",
    "fig = px.imshow(W,\n",
    "                labels=dict(x=\"Words\", y=\"Words\", color=\"Similarity\"),\n",
    "                x=list(vocab.keys()),\n",
    "                y=list(vocab.keys()),\n",
    "                color_continuous_scale=\"Viridis\")\n",
    "\n",
    "fig.update_layout(title=\"Similarity Heatmap\")\n",
    "\n",
    "fig.show()"
   ]
  },
  {
   "cell_type": "code",
   "execution_count": 11,
   "id": "b8a255a8-3fae-4fff-9b4e-c9dc5bcb030d",
   "metadata": {},
   "outputs": [
    {
     "data": {
      "text/html": [
       "<iframe\n",
       "    scrolling=\"no\"\n",
       "    width=\"100%\"\n",
       "    height=\"545px\"\n",
       "    src=\"iframe_figures/figure_11.html\"\n",
       "    frameborder=\"0\"\n",
       "    allowfullscreen\n",
       "></iframe>\n"
      ]
     },
     "metadata": {},
     "output_type": "display_data"
    }
   ],
   "source": [
    "# Plotting the attention weights\n",
    "fig = px.imshow(Y,\n",
    "                labels=dict(x=\"Embedding dimension\", y=\"Words\", color=\"Attention Weights\"),\n",
    "                # x=list(vocab.keys()),\n",
    "                y=list(vocab.keys()),\n",
    "                color_continuous_scale=\"Viridis\")\n",
    "\n",
    "fig.update_layout(title=\"Attention Weights\")\n",
    "\n",
    "fig.show()"
   ]
  },
  {
   "cell_type": "code",
   "execution_count": 12,
   "id": "c0934f20-8e14-4de2-8a09-4334e8b5fa0e",
   "metadata": {},
   "outputs": [],
   "source": [
    "# Rescaling W and then applying SoftMax to turn the values into probabilties.\n",
    "# Uncomment and run the following to learn more.\n",
    "# ? F.softmax"
   ]
  },
  {
   "cell_type": "code",
   "execution_count": 13,
   "id": "4f24c756-ab58-4b93-a106-502064388f39",
   "metadata": {},
   "outputs": [
    {
     "data": {
      "text/html": [
       "<iframe\n",
       "    scrolling=\"no\"\n",
       "    width=\"100%\"\n",
       "    height=\"545px\"\n",
       "    src=\"iframe_figures/figure_13.html\"\n",
       "    frameborder=\"0\"\n",
       "    allowfullscreen\n",
       "></iframe>\n"
      ]
     },
     "metadata": {},
     "output_type": "display_data"
    }
   ],
   "source": [
    "W2 = W / torch.sqrt(torch.tensor(d).float()) # W / sqrt(k)\n",
    "W2 = F.softmax(W2, dim=-1) \n",
    "\n",
    "# Plotting Similarity Heatmap\n",
    "fig = px.imshow(W2,\n",
    "                labels=dict(x=\"Words\", y=\"Words\", color=\"Similarity\"),\n",
    "                x=list(vocab.keys()),\n",
    "                y=list(vocab.keys()),\n",
    "                color_continuous_scale=\"Viridis\")\n",
    "\n",
    "fig.update_layout(title=\"Similarity Heatmap\")\n",
    "\n",
    "fig.show()"
   ]
  },
  {
   "cell_type": "code",
   "execution_count": 14,
   "id": "98408375-f027-439a-8210-ae9bd08ded22",
   "metadata": {},
   "outputs": [
    {
     "data": {
      "text/html": [
       "<iframe\n",
       "    scrolling=\"no\"\n",
       "    width=\"100%\"\n",
       "    height=\"545px\"\n",
       "    src=\"iframe_figures/figure_14.html\"\n",
       "    frameborder=\"0\"\n",
       "    allowfullscreen\n",
       "></iframe>\n"
      ]
     },
     "metadata": {},
     "output_type": "display_data"
    }
   ],
   "source": [
    "Y2 = W2 @ X\n",
    "\n",
    "# Plotting the attention weights\n",
    "fig = px.imshow(Y2,\n",
    "                labels=dict(x=\"Embedding dimension\", y=\"Words\", color=\"Attention Weights\"),\n",
    "                # x=list(vocab.keys()),\n",
    "                y=list(vocab.keys()),\n",
    "                color_continuous_scale=\"Viridis\")\n",
    "\n",
    "fig.update_layout(title=\"Attention Weights\")\n",
    "\n",
    "fig.show()"
   ]
  },
  {
   "cell_type": "markdown",
   "id": "c51acf37-5aa0-41dc-b13b-40ab9e5ebef7",
   "metadata": {},
   "source": [
    "## Self-Attention (AKA Scaled Dot-Product Attention)\n",
    "\n",
    "### Define the Weight Matrices for Self-Attention\n",
    "\n",
    "In this case, we have three weight matrices $W^Q_{d \\times d_q}$, $W^K_{d \\times d_k}$ ($d_q = d_k$), and $W^V_{d \\times d_v}$. Here $d_{\\{i\\}}, i \\in [\\text{q, k, v}]$ is the output dimension.\n",
    "\n",
    "$$\n",
    "\\begin{align}\n",
    "Q_{n \\times d_q} &:= X_{n \\times d} \\times W_{d \\times d_q}^Q \\\\\n",
    "K_{n \\times d_k} &:= X_{n \\times d} \\times W_{d \\times d_k}^K \\\\\n",
    "V_{n \\times d_v} &:= X_{n \\times d} \\times W_{d \\times d_v}^V\n",
    "\\end{align}\n",
    "$$\n",
    "\n",
    "$$\n",
    "\\begin{align}\n",
    "W_{n\\times n} &:= Q_{n\\times d_q} \\times K_{d_k \\times n}^T \\\\\n",
    "W_{n\\times n} &:= \\text{softmax}\\left(\\frac{W_{n\\times n}}{\\sqrt{d_q}}\\right) \\\\\n",
    "Y_{n \\times d_v} &:= W_{n\\times n} \\times V_{n \\times d_v}\n",
    "\\end{align}\n",
    "$$"
   ]
  },
  {
   "cell_type": "code",
   "execution_count": 15,
   "id": "61140cde-b795-4dca-916d-53b515aa31fc",
   "metadata": {},
   "outputs": [
    {
     "data": {
      "text/plain": [
       "(torch.Size([64, 32]), torch.Size([64, 32]), torch.Size([64, 48]))"
      ]
     },
     "execution_count": 15,
     "metadata": {},
     "output_type": "execute_result"
    }
   ],
   "source": [
    "# d = 64\n",
    "d_q = d_k = 32 # To satisfy the dimension requirements for multiplying Q & K\n",
    "d_v = 48 # d_v can be arbitrary, though usually kept the same as for Q & K\n",
    "\n",
    "W_Q = torch.nn.Parameter(torch.rand(d, d_q))\n",
    "W_K = torch.nn.Parameter(torch.rand(d, d_k))\n",
    "W_V = torch.nn.Parameter(torch.rand(d, d_v))\n",
    "\n",
    "W_Q.shape, W_K.shape, W_V.shape"
   ]
  },
  {
   "cell_type": "code",
   "execution_count": 16,
   "id": "9c3913a7-9473-4f0b-ad9e-b320e03bf3a2",
   "metadata": {},
   "outputs": [
    {
     "data": {
      "text/plain": [
       "Parameter containing:\n",
       "tensor([[0.0605, 0.2699, 0.3683,  ..., 0.3112, 0.9992, 0.9132],\n",
       "        [0.0440, 0.0074, 0.2083,  ..., 0.8483, 0.9896, 0.1457],\n",
       "        [0.3154, 0.6381, 0.6555,  ..., 0.6815, 0.6295, 0.5264],\n",
       "        ...,\n",
       "        [0.7914, 0.1441, 0.5487,  ..., 0.1384, 0.0780, 0.5441],\n",
       "        [0.0409, 0.8966, 0.1534,  ..., 0.7153, 0.6619, 0.6170],\n",
       "        [0.7900, 0.6138, 0.2550,  ..., 0.8380, 0.2511, 0.0179]],\n",
       "       requires_grad=True)"
      ]
     },
     "execution_count": 16,
     "metadata": {},
     "output_type": "execute_result"
    }
   ],
   "source": [
    "W_Q"
   ]
  },
  {
   "cell_type": "code",
   "execution_count": 17,
   "id": "a696f2a4-711b-4e8d-81a5-e310104cd5da",
   "metadata": {},
   "outputs": [
    {
     "data": {
      "text/plain": [
       "(torch.Size([22, 22]), torch.Size([22, 48]))"
      ]
     },
     "execution_count": 17,
     "metadata": {},
     "output_type": "execute_result"
    }
   ],
   "source": [
    "Q = X @ W_Q\n",
    "K = X @ W_K\n",
    "V = X @ W_V\n",
    "\n",
    "W = Q @ K.T\n",
    "W = W / torch.sqrt(torch.tensor(d_q).float())\n",
    "W = F.softmax(W, dim=-1)\n",
    "Y = W @ V\n",
    "\n",
    "W.shape, Y.shape"
   ]
  },
  {
   "cell_type": "code",
   "execution_count": 18,
   "id": "51f2fe30-21a7-4297-909b-339aa2ac1b06",
   "metadata": {},
   "outputs": [
    {
     "data": {
      "text/html": [
       "<iframe\n",
       "    scrolling=\"no\"\n",
       "    width=\"100%\"\n",
       "    height=\"545px\"\n",
       "    src=\"iframe_figures/figure_18.html\"\n",
       "    frameborder=\"0\"\n",
       "    allowfullscreen\n",
       "></iframe>\n"
      ]
     },
     "metadata": {},
     "output_type": "display_data"
    }
   ],
   "source": [
    "# Plotting Similarity Heatmap - NOT TRAINED\n",
    "fig = px.imshow(W.detach(),\n",
    "                labels=dict(x=\"Words\", y=\"Words\", color=\"Similarity\"),\n",
    "                x=list(vocab.keys()),\n",
    "                y=list(vocab.keys()),\n",
    "                color_continuous_scale=\"Viridis\")\n",
    "\n",
    "fig.update_layout(title=\"Similarity Heatmap (Untrained)\")\n",
    "\n",
    "fig.show()"
   ]
  },
  {
   "cell_type": "code",
   "execution_count": 19,
   "id": "a83274d2-0521-4327-9d1d-95834514dc09",
   "metadata": {},
   "outputs": [
    {
     "data": {
      "text/html": [
       "<iframe\n",
       "    scrolling=\"no\"\n",
       "    width=\"100%\"\n",
       "    height=\"545px\"\n",
       "    src=\"iframe_figures/figure_19.html\"\n",
       "    frameborder=\"0\"\n",
       "    allowfullscreen\n",
       "></iframe>\n"
      ]
     },
     "metadata": {},
     "output_type": "display_data"
    }
   ],
   "source": [
    "# Plotting the attention weights - NOT TRAINED\n",
    "fig = px.imshow(Y.detach(),\n",
    "                labels=dict(x=\"Values (V) Dimension\", y=\"Words\", color=\"Attention Weights\"),\n",
    "                # x=list(vocab.keys()),\n",
    "                y=list(vocab.keys()),\n",
    "                color_continuous_scale=\"Viridis\")\n",
    "\n",
    "fig.update_layout(title=\"Attention Weights (Untrained)\")\n",
    "\n",
    "fig.show()"
   ]
  },
  {
   "cell_type": "markdown",
   "id": "8595c474-2325-402f-955f-c6ea3538bc68",
   "metadata": {},
   "source": [
    "### MultiHead Attention"
   ]
  },
  {
   "cell_type": "code",
   "execution_count": 20,
   "id": "d8f496eb-4414-4950-8ef4-d7f0beea587f",
   "metadata": {},
   "outputs": [],
   "source": [
    "# Number of heads\n",
    "h = 4\n",
    "MW_Q = torch.nn.Parameter(torch.rand(h, d_q, d))\n",
    "MW_K = torch.nn.Parameter(torch.rand(h, d_k, d))\n",
    "MW_V = torch.nn.Parameter(torch.rand(h, d_v, d))"
   ]
  },
  {
   "cell_type": "code",
   "execution_count": 21,
   "id": "3baa6761-4e86-4327-a4b6-8d540db39873",
   "metadata": {},
   "outputs": [
    {
     "data": {
      "text/plain": [
       "(tensor([-0.2582, -2.0407, -0.8016, -0.8183, -1.1820, -0.2877, -0.6043,  0.6002,\n",
       "         -1.4053, -0.5922, -0.2548,  1.1517, -0.0179,  0.4264, -0.7657, -0.0545,\n",
       "         -1.2743,  0.4513, -0.2280,  0.9224,  0.2056, -0.4970,  0.5821,  0.2053,\n",
       "         -0.3018, -0.6703, -0.6171, -0.8334,  0.4839, -0.1349,  0.2119, -0.8714,\n",
       "          0.6851,  2.0024, -0.5469,  1.6014, -2.2577, -1.8009,  0.7015,  0.5703,\n",
       "         -1.1766, -2.0524,  0.1132,  1.4353,  0.0883, -1.2037,  1.0964,  2.4210,\n",
       "          0.1538, -0.4452,  0.5503,  0.0658,  0.6805,  1.2064,  1.6250,  0.3459,\n",
       "          0.1343,  0.7662,  2.2760, -1.3255, -0.8970,  0.1132,  0.8365,  0.0285]),\n",
       " torch.Size([64]))"
      ]
     },
     "execution_count": 21,
     "metadata": {},
     "output_type": "execute_result"
    }
   ],
   "source": [
    "x_1 = embedded_sentence[1] # Second word's embedding\n",
    "x_1, x_1.shape"
   ]
  },
  {
   "cell_type": "code",
   "execution_count": 22,
   "id": "87dd896c-6320-4c85-bd80-c68b3d7dc419",
   "metadata": {},
   "outputs": [
    {
     "data": {
      "text/plain": [
       "torch.Size([4, 32])"
      ]
     },
     "execution_count": 22,
     "metadata": {},
     "output_type": "execute_result"
    }
   ],
   "source": [
    "# Multihead query vectors for the second word\n",
    "mq2 = MW_Q @ x_1\n",
    "mq2.shape # h=4, d_q=32"
   ]
  },
  {
   "cell_type": "code",
   "execution_count": 23,
   "id": "a50cba63-1078-44e5-9f8e-523845982e61",
   "metadata": {},
   "outputs": [
    {
     "data": {
      "text/plain": [
       "(tensor([[[-1.1065, -0.2582,  0.3277,  ..., -1.0693, -1.4284,  0.5146],\n",
       "          [ 1.2682, -2.0407, -0.8331,  ...,  0.4660,  0.5617,  0.9938],\n",
       "          [ 0.3147, -0.8016, -1.6179,  ...,  0.7012,  0.7701, -0.2587],\n",
       "          ...,\n",
       "          [ 0.4466,  0.1132, -1.7984,  ...,  2.7196, -1.3574,  1.2774],\n",
       "          [-0.8970,  0.8365, -0.6822,  ...,  0.4816, -1.1745, -1.4596],\n",
       "          [ 0.1009,  0.0285, -0.5191,  ...,  0.2409, -0.5126, -2.1595]],\n",
       " \n",
       "         [[-1.1065, -0.2582,  0.3277,  ..., -1.0693, -1.4284,  0.5146],\n",
       "          [ 1.2682, -2.0407, -0.8331,  ...,  0.4660,  0.5617,  0.9938],\n",
       "          [ 0.3147, -0.8016, -1.6179,  ...,  0.7012,  0.7701, -0.2587],\n",
       "          ...,\n",
       "          [ 0.4466,  0.1132, -1.7984,  ...,  2.7196, -1.3574,  1.2774],\n",
       "          [-0.8970,  0.8365, -0.6822,  ...,  0.4816, -1.1745, -1.4596],\n",
       "          [ 0.1009,  0.0285, -0.5191,  ...,  0.2409, -0.5126, -2.1595]],\n",
       " \n",
       "         [[-1.1065, -0.2582,  0.3277,  ..., -1.0693, -1.4284,  0.5146],\n",
       "          [ 1.2682, -2.0407, -0.8331,  ...,  0.4660,  0.5617,  0.9938],\n",
       "          [ 0.3147, -0.8016, -1.6179,  ...,  0.7012,  0.7701, -0.2587],\n",
       "          ...,\n",
       "          [ 0.4466,  0.1132, -1.7984,  ...,  2.7196, -1.3574,  1.2774],\n",
       "          [-0.8970,  0.8365, -0.6822,  ...,  0.4816, -1.1745, -1.4596],\n",
       "          [ 0.1009,  0.0285, -0.5191,  ...,  0.2409, -0.5126, -2.1595]],\n",
       " \n",
       "         [[-1.1065, -0.2582,  0.3277,  ..., -1.0693, -1.4284,  0.5146],\n",
       "          [ 1.2682, -2.0407, -0.8331,  ...,  0.4660,  0.5617,  0.9938],\n",
       "          [ 0.3147, -0.8016, -1.6179,  ...,  0.7012,  0.7701, -0.2587],\n",
       "          ...,\n",
       "          [ 0.4466,  0.1132, -1.7984,  ...,  2.7196, -1.3574,  1.2774],\n",
       "          [-0.8970,  0.8365, -0.6822,  ...,  0.4816, -1.1745, -1.4596],\n",
       "          [ 0.1009,  0.0285, -0.5191,  ...,  0.2409, -0.5126, -2.1595]]]),\n",
       " torch.Size([4, 64, 22]))"
      ]
     },
     "execution_count": 23,
     "metadata": {},
     "output_type": "execute_result"
    }
   ],
   "source": [
    "# To compute for all the heads\n",
    "stacked_inputs = embedded_sentence.T.repeat(h, 1, 1)\n",
    "stacked_inputs, stacked_inputs.shape"
   ]
  },
  {
   "cell_type": "code",
   "execution_count": 24,
   "id": "32948177-f72b-4140-a33d-d92953dec5a6",
   "metadata": {},
   "outputs": [
    {
     "data": {
      "text/plain": [
       "(torch.Size([4, 32, 22]), torch.Size([4, 32, 22]), torch.Size([4, 48, 22]))"
      ]
     },
     "execution_count": 24,
     "metadata": {},
     "output_type": "execute_result"
    }
   ],
   "source": [
    "M_Q = torch.bmm(MW_Q, stacked_inputs)\n",
    "M_K = torch.bmm(MW_K, stacked_inputs)\n",
    "M_V= torch.bmm(MW_V, stacked_inputs)\n",
    "\n",
    "M_Q.shape, M_K.shape, M_V.shape"
   ]
  },
  {
   "cell_type": "code",
   "execution_count": 25,
   "id": "4fe8bab2-9f54-4ecd-8587-f8d4df779d50",
   "metadata": {},
   "outputs": [
    {
     "data": {
      "text/plain": [
       "(torch.Size([4, 22, 32]), torch.Size([4, 22, 32]), torch.Size([4, 22, 48]))"
      ]
     },
     "execution_count": 25,
     "metadata": {},
     "output_type": "execute_result"
    }
   ],
   "source": [
    "M_Q = M_Q.permute(0, 2, 1)\n",
    "M_K = M_K.permute(0, 2, 1)\n",
    "M_V = M_V.permute(0, 2, 1)\n",
    "\n",
    "M_Q.shape, M_K.shape, M_V.shape"
   ]
  },
  {
   "cell_type": "markdown",
   "id": "94378361-38c5-44e0-8b81-7bd64a9788d3",
   "metadata": {},
   "source": [
    "### Try implementing the attention weight calculation for MHA"
   ]
  },
  {
   "cell_type": "code",
   "execution_count": 26,
   "id": "feef5414-1b2b-4c11-be62-a745dac8d5b2",
   "metadata": {},
   "outputs": [],
   "source": [
    "# your code here"
   ]
  },
  {
   "cell_type": "markdown",
   "id": "a56aa023-1d88-4a1b-9a60-70d632046136",
   "metadata": {},
   "source": [
    "### Bonus: SoftMax Function"
   ]
  },
  {
   "cell_type": "code",
   "execution_count": 27,
   "id": "82936f38-0742-43ed-8f4e-86ffaca2e438",
   "metadata": {},
   "outputs": [
    {
     "data": {
      "text/html": [
       "<iframe\n",
       "    scrolling=\"no\"\n",
       "    width=\"100%\"\n",
       "    height=\"545px\"\n",
       "    src=\"iframe_figures/figure_27.html\"\n",
       "    frameborder=\"0\"\n",
       "    allowfullscreen\n",
       "></iframe>\n"
      ]
     },
     "metadata": {},
     "output_type": "display_data"
    }
   ],
   "source": [
    "import numpy as np\n",
    "\n",
    "def softmax(x):\n",
    "    e_x = np.exp(x - np.max(x))  # Subtracting np.max(x) for numerical stability\n",
    "\n",
    "    return e_x / e_x.sum(axis=0)\n",
    "\n",
    "# Generate some input values\n",
    "x_values = np.arange(-5, 5, 0.1)\n",
    "y_values = softmax(x_values) # Try both functions\n",
    "# y_values = F.softmax(torch.Tensor(x_values), dim=-1)\n",
    "\n",
    "\n",
    "fig = px.line(x=x_values, y=y_values, labels={'x': 'Input Values', 'y': 'Probability'},\n",
    "              title='Softmax Function', line_shape='linear')\n",
    "\n",
    "fig.update_xaxes(title_text='Input Values')\n",
    "fig.update_yaxes(title_text='Probability')\n",
    "fig.update_layout(showlegend=False, xaxis=dict(showgrid=True, zeroline=False),\n",
    "                  yaxis=dict(showgrid=True, zeroline=False))\n",
    "\n",
    "fig.show()"
   ]
  },
  {
   "cell_type": "code",
   "execution_count": null,
   "id": "d5b6252d-8142-4277-accc-3da791334a10",
   "metadata": {},
   "outputs": [],
   "source": []
  }
 ],
 "metadata": {
  "kernelspec": {
   "display_name": "Python 3 (ipykernel)",
   "language": "python",
   "name": "python3"
  },
  "language_info": {
   "codemirror_mode": {
    "name": "ipython",
    "version": 3
   },
   "file_extension": ".py",
   "mimetype": "text/x-python",
   "name": "python",
   "nbconvert_exporter": "python",
   "pygments_lexer": "ipython3",
   "version": "3.10.10"
  }
 },
 "nbformat": 4,
 "nbformat_minor": 5
}
